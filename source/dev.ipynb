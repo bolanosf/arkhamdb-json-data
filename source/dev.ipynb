{
 "cells": [
  {
   "cell_type": "code",
   "execution_count": 1,
   "metadata": {},
   "outputs": [],
   "source": [
    "import argparse\n",
    "import json\n",
    "import os\n",
    "from jmespath import search\n",
    "from common.optimization import runtime_function\n",
    "from common.utils import load_json_file\n",
    "from common.consts import (\n",
    "    ENCOUNTER_SUBSET_PATH, \n",
    "    FEATURE_ENCOUNTER_DICT,\n",
    "    PLAYER_SUBSET_PATH,\n",
    "    FEATURE_PLAYER_DICT,\n",
    ")"
   ]
  },
  {
   "cell_type": "code",
   "execution_count": 2,
   "metadata": {},
   "outputs": [],
   "source": [
    "enc_data = load_json_file(ENCOUNTER_SUBSET_PATH)\n",
    "player_data = load_json_file(PLAYER_SUBSET_PATH)\n",
    "feat_enc = FEATURE_ENCOUNTER_DICT.keys()\n",
    "feat_player = FEATURE_PLAYER_DICT.keys()"
   ]
  }
 ],
 "metadata": {
  "kernelspec": {
   "display_name": ".venv",
   "language": "python",
   "name": "python3"
  },
  "language_info": {
   "codemirror_mode": {
    "name": "ipython",
    "version": 3
   },
   "file_extension": ".py",
   "mimetype": "text/x-python",
   "name": "python",
   "nbconvert_exporter": "python",
   "pygments_lexer": "ipython3",
   "version": "3.10.10"
  },
  "orig_nbformat": 4
 },
 "nbformat": 4,
 "nbformat_minor": 2
}
